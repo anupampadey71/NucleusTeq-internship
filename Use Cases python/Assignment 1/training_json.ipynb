{
  "nbformat": 4,
  "nbformat_minor": 0,
  "metadata": {
    "colab": {
      "provenance": []
    },
    "kernelspec": {
      "name": "python3",
      "display_name": "Python 3"
    },
    "language_info": {
      "name": "python"
    }
  },
  "cells": [
    {
      "cell_type": "code",
      "execution_count": 1,
      "metadata": {
        "colab": {
          "base_uri": "https://localhost:8080/"
        },
        "id": "iyqhqysWru9a",
        "outputId": "0270b857-b7d1-4185-8aeb-1814731e34ab"
      },
      "outputs": [
        {
          "output_type": "stream",
          "name": "stdout",
          "text": [
            "Training Name: Python Training\n",
            "Date: April 19, 2024\n",
            "Completed: True\n",
            "Instructor Name: XYZ\n",
            "Instructor Website: http://pqr.com/\n",
            "Participants:\n",
            "- Name: Participant 1\n",
            "  Email: email1@example.com\n",
            "- Name: Participant 2\n",
            "  Email: email2@example.com\n"
          ]
        }
      ],
      "source": [
        "import json\n",
        "\n",
        "# Read JSON data from file\n",
        "with open('training.json', 'r') as file:\n",
        "    json_data = file.read()\n",
        "\n",
        "# Parse JSON string into Python dictionary\n",
        "training_session = json.loads(json_data)\n",
        "\n",
        "# Accessing different elements of the training session with appropriate data types\n",
        "print(\"Training Name:\", training_session[\"name\"])  # String\n",
        "print(\"Date:\", training_session[\"date\"])  # String\n",
        "print(\"Completed:\", training_session[\"completed\"])  # Boolean\n",
        "\n",
        "instructor = training_session[\"instructor\"]\n",
        "print(\"Instructor Name:\", instructor[\"name\"])  # String\n",
        "print(\"Instructor Website:\", instructor[\"website\"])  # String\n",
        "\n",
        "participants = training_session[\"participants\"]\n",
        "print(\"Participants:\")\n",
        "for participant in participants:\n",
        "    print(\"- Name:\", participant[\"name\"])  # String\n",
        "    print(\"  Email:\", participant[\"email\"])  # String\n"
      ]
    }
  ]
}